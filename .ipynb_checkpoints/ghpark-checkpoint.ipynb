{
 "cells": [
  {
   "cell_type": "markdown",
   "id": "39477fda",
   "metadata": {},
   "source": [
    "# COMP90051 Project 2\n",
    "**Name:** Gyu Hwan Park\n",
    "\n",
    "**Student ID:** 998174"
   ]
  },
  {
   "cell_type": "code",
   "execution_count": 310,
   "id": "53e0cf35",
   "metadata": {},
   "outputs": [],
   "source": [
    "# You can add additional imports here\n",
    "import numpy as np\n",
    "from matplotlib import pyplot as plt\n",
    "plt.rcParams[\"figure.figsize\"] = (10,6)\n",
    "\n",
    "import os\n",
    "import random\n",
    "from sklearn.model_selection import train_test_split\n",
    "from collections import defaultdict\n",
    "\n",
    "# additional libraries\n",
    "import pickle\n",
    "import random\n",
    "from sklearn.linear_model import LogisticRegression\n",
    "from scipy.stats import entropy\n",
    "from sklearn.ensemble import BaggingClassifier\n",
    "from sklearn.preprocessing import StandardScaler\n",
    "from sklearn.cluster import AgglomerativeClustering\n",
    "from scipy.cluster.hierarchy import dendrogram\n",
    "import itertools\n",
    "import sklearn"
   ]
  },
  {
   "cell_type": "markdown",
   "id": "1c1a6394",
   "metadata": {},
   "source": [
    "## 0. Loading the dataset"
   ]
  },
  {
   "cell_type": "code",
   "execution_count": 311,
   "id": "5fa444e0",
   "metadata": {},
   "outputs": [],
   "source": [
    "# do not edit this cell\n",
    "# load the data files (download from the LMS)\n",
    "embedded_images = np.load('images.npy')\n",
    "labels = np.load('labels.npy')\n",
    "\n",
    "# split into pool & testing\n",
    "X_pool, X_test, y_pool, y_test = train_test_split(embedded_images, labels, \n",
    "                                                  test_size=0.5, random_state=1234, shuffle=True)\n",
    "\n",
    "# sample a seed set\n",
    "np.random.seed(1234)\n",
    "label2id = defaultdict(list)\n",
    "for i, label in enumerate(y_pool):\n",
    "    label2id[label].append(i)\n",
    "seed_set = []\n",
    "for label, ids in label2id.items():\n",
    "    seed_set.extend(np.random.choice(ids, size=10, replace=False))"
   ]
  },
  {
   "cell_type": "markdown",
   "id": "fb10b9d3",
   "metadata": {},
   "source": [
    "- Read data.\n",
    "- Split full data into full training pool (X_pool, y_pool) and test set (X_test, y_pool).\n",
    "    - Equal size in these two. 0.5 each, so 9640 images each.\n",
    "- label2id: dictionary of language (label): list of indices (ids) for that label.\n",
    "- seed_set: sample 10 images from each label. 10x30 = 300 images in the intial seed set."
   ]
  },
  {
   "cell_type": "markdown",
   "id": "d4770253",
   "metadata": {},
   "source": [
    "## 1. Applying logistic regression"
   ]
  },
  {
   "cell_type": "markdown",
   "id": "6a53e40b",
   "metadata": {},
   "source": [
    "- Tried a bunch of combinations of values for 'multi_class' and 'solver' for LogisticRegression().\n",
    "    - e.g) 'multinomial-saga', 'multinomial-sag', 'multinomial-lbfgs', 'ovr-lbfgs', 'ovr-liblinear', etc. with and without normalising the dataset. \n",
    "- Empirically, I found that for train sets of size ~3000 as we will have at most, 'multinomial-lbfgs' with normalisation and 'ovr-liblinear' without normalisation had roughly the fastest run-times (when n_jobs=-1).\n",
    "    - However, 'multinomial-lbfgs' frequently raised warnings in failing of convergence, so this pair required manipulation of 'max_iter', 'tol' parameter values to appropriately converge.\n",
    "    - On the other hand, 'ovr-liblinear' without normalisation did not raise any such warnings. \n",
    "- Also, 'multinomial-lbfgs' is able to perform without any regularisation.\n",
    "    - This turned out to be much faster, but it showed less stable test set accuracy when compared to 'ovr-liblinear'.\n",
    "  \n",
    "- So, I decided to use the 'ovr-liblinear' pair for LogisticRegression().\n",
    "    - We will use this pair for the whole project, as the training of active learning phases take some hours, we want to go with the fastest one.\n",
    "    - The comparison of performance between different solvers, etc. is not our focus here."
   ]
  },
  {
   "cell_type": "code",
   "execution_count": 312,
   "id": "c1030f5a",
   "metadata": {},
   "outputs": [],
   "source": [
    "def parse_kwargs(**kwargs):\n",
    "    \"\"\"\n",
    "    Parse keyword arguments. Set to default values if not given.\n",
    "    Check for suitableness of input types.\n",
    "    \"\"\"\n",
    "    \n",
    "    penalty = kwargs.get('penalty', 'l2')\n",
    "    C = kwargs.get('C', 1.0)\n",
    "    random_state = kwargs.get('random_state', 1)\n",
    "    solver = kwargs.get('solver', 'liblinear')\n",
    "    max_iter = kwargs.get('max_iter', 100)\n",
    "    multi_class = kwargs.get('multi_class', 'ovr')\n",
    "    \n",
    "    assert type(penalty) is str, 'type str required for l2'\n",
    "    assert type(C) is float, 'type float required for C'\n",
    "    assert type(random_state) is int, 'type int required for random_state'\n",
    "    assert type(solver) is str, 'type str required for solver'\n",
    "    assert type(max_iter) is int, 'type int required for max_iter'\n",
    "    assert type(multi_class) is str, 'type str required for max_iter'\n",
    "\n",
    "    return penalty, C, random_state, solver, max_iter, multi_class"
   ]
  },
  {
   "cell_type": "code",
   "execution_count": 313,
   "id": "f786ab71",
   "metadata": {},
   "outputs": [],
   "source": [
    "def train_logistic_regression(X, y, **kwargs):\n",
    "    \"\"\"\n",
    "    Train a logistic regression model on dataset (X, y) and return trained model.\n",
    "    X: matrix of real values, size n x d\n",
    "    y: vector of string labels, size n\n",
    "    args: optional arguments e.g., for hyper-parameters\n",
    "    \"\"\"\n",
    "    \n",
    "    # parse keyword args    \n",
    "    penalty, C, random_state, solver, max_iter, multi_class = parse_kwargs(**kwargs)\n",
    "    \n",
    "    # define and train logistic classifier\n",
    "    model = LogisticRegression(penalty=penalty, C=C, random_state=random_state, n_jobs=-1,\n",
    "                               solver=solver, max_iter=max_iter, multi_class=multi_class)\n",
    "    model.fit(X, y)\n",
    "    \n",
    "    # return fitted model\n",
    "    return model"
   ]
  },
  {
   "cell_type": "code",
   "execution_count": 314,
   "id": "1f656eee",
   "metadata": {},
   "outputs": [],
   "source": [
    "def evaluate_logistic_regression_accuracy(Xt, yt, model):\n",
    "    \"\"\"\n",
    "    Apply logistic regression prediction on dataset Xt and evaluate accuracy against yt,\n",
    "    returing the accuracy results as a scalar.\n",
    "    Xt: matrix of real values, size m x d\n",
    "    yt: vector of string labels, size m\n",
    "    \"\"\"\n",
    "    \n",
    "    # return accuracy of trained logistic classifier on the test set Xt, yt\n",
    "    return model.score(Xt, yt)"
   ]
  },
  {
   "cell_type": "code",
   "execution_count": 315,
   "id": "8090fb71",
   "metadata": {},
   "outputs": [],
   "source": [
    "# your code here for training, evaluating & plotting results"
   ]
  },
  {
   "cell_type": "markdown",
   "id": "f83bc948",
   "metadata": {},
   "source": [
    "#### Training"
   ]
  },
  {
   "cell_type": "markdown",
   "id": "d912266c",
   "metadata": {},
   "source": [
    "```python\n",
    "# train on seed set (300 images)\n",
    "model_seed = train_logistic_regression(X_pool[seed_set], y_pool[seed_set])\n",
    "# save the seed model\n",
    "filename = 'files/Q1_seed300_log_reg.sav'\n",
    "pickle.dump(model_seed, open(filename, 'wb'))\n",
    "\n",
    "# train on full train set (9640 images)\n",
    "model_full = train_logistic_regression(X_pool, y_pool)\n",
    "# save the full pool model\n",
    "filename = 'files/Q1_full_log_reg.sav'\n",
    "pickle.dump(model_full, open(filename, 'wb'))\n",
    "```"
   ]
  },
  {
   "cell_type": "markdown",
   "id": "cdb0b04a",
   "metadata": {},
   "source": [
    "#### Loading and Evaluating"
   ]
  },
  {
   "cell_type": "code",
   "execution_count": 316,
   "id": "9ca8bd0f",
   "metadata": {},
   "outputs": [
    {
     "name": "stderr",
     "output_type": "stream",
     "text": [
      "/home/ghpark/.local/lib/python3.7/site-packages/sklearn/base.py:315: UserWarning: Trying to unpickle estimator LogisticRegression from version 0.23.0 when using version 0.24.1. This might lead to breaking code or invalid results. Use at your own risk.\n",
      "  UserWarning)\n"
     ]
    }
   ],
   "source": [
    "# load the two trained models\n",
    "model_seed = pickle.load(open('files/Q1_seed300_log_reg.sav', 'rb'))\n",
    "model_full = pickle.load(open('files/Q1_full_log_reg.sav', 'rb'))\n",
    "\n",
    "# compute accuracies\n",
    "acc_seed = evaluate_logistic_regression_accuracy(X_test, y_test, model_seed)\n",
    "acc_full = evaluate_logistic_regression_accuracy(X_test, y_test, model_full)"
   ]
  },
  {
   "cell_type": "markdown",
   "id": "15d09fc4",
   "metadata": {},
   "source": [
    "#### Results"
   ]
  },
  {
   "cell_type": "code",
   "execution_count": 317,
   "id": "8e3c3235",
   "metadata": {},
   "outputs": [
    {
     "name": "stdout",
     "output_type": "stream",
     "text": [
      "Accuracy on test set for LogReg classifier trained on the seed train set: 0.3074.\n",
      "Accuracy on test set for LogReg classifier trained on the full train set: 0.6006.\n"
     ]
    }
   ],
   "source": [
    "print(f\"Accuracy on test set for LogReg classifier trained on the seed train set: {round(acc_seed, 4)}.\")\n",
    "print(f\"Accuracy on test set for LogReg classifier trained on the full train set: {round(acc_full, 4)}.\")"
   ]
  },
  {
   "cell_type": "code",
   "execution_count": 318,
   "id": "ce932836",
   "metadata": {},
   "outputs": [
    {
     "data": {
      "image/png": "[encoded data removed]",
      "text/plain": [
       "<Figure size 720x432 with 1 Axes>"
      ]
     },
     "metadata": {
      "needs_background": "light"
     },
     "output_type": "display_data"
    }
   ],
   "source": [
    "# plot the accuracies compared to train set size (# of labelled images in train set)\n",
    "\n",
    "x = [len(X_pool[seed_set]), len(X_pool)]\n",
    "y = [acc_seed, acc_full]\n",
    "\n",
    "plt.scatter(x,y, color='red', ls='--', marker='x', lw=1)\n",
    "plt.title(\"Test accuracy plot\")\n",
    "plt.xlabel(\"Train set size (# of labelled instances)\")\n",
    "plt.ylabel(\"Test accuracy\")\n",
    "plt.show()"
   ]
  },
  {
   "cell_type": "markdown",
   "id": "33f5ed38",
   "metadata": {},
   "source": [
    "- We see that the logistic regression classifier trained on the seed set (300 labelled images) gives an accuracy of about 0.3074 on the test set. \n",
    "- The model trained on the full pool (9640 labelled images) gives an accuracy of about 0.6006, which is almost double that of model trained on seed set.\n",
    "- We expect as we progressively reveal more labels over the course of an active learning run, the accuracies will increase from 0.3074."
   ]
  },
  {
   "cell_type": "markdown",
   "id": "b43102f9",
   "metadata": {},
   "source": [
    "## 2. Active learning framework with Random selection"
   ]
  },
  {
   "cell_type": "code",
   "execution_count": 319,
   "id": "6a21b7ff",
   "metadata": {},
   "outputs": [],
   "source": [
    "def random_select(X, model, **kwargs):\n",
    "    \"\"\"\n",
    "    Given an unlabelled dataset X, a matrix of n x d, and a model (not used)\n",
    "    returns a vector of scores of length n. Each entry reflects the priority \n",
    "    of the corresponding instance. \n",
    "    Higher means better.\n",
    "    \"\"\"\n",
    "    # randomly sample from [0, 1, ..., n-1] \n",
    "    size = X.shape[0]\n",
    "    scores = np.random.choice(size, size, replace=False)\n",
    "    \n",
    "    return scores"
   ]
  },
  {
   "cell_type": "code",
   "execution_count": 320,
   "id": "ee0305a5",
   "metadata": {},
   "outputs": [],
   "source": [
    "def pool_based_active_learning(X_pool, y_pool, seed_ids,\n",
    "                               train_func, select_func,\n",
    "                               max_size, batch_size, **kwargs):\n",
    "    \"\"\"\n",
    "    Perform an active learning simulation, which starts by training on a seed set,\n",
    "    then iteratively applies the selection function to rank instances in the pool,\n",
    "    selects the top few instances which are included into the training set and the\n",
    "    process repeats. \n",
    "        X_pool: matrix of n x d\n",
    "        y_pool: vector of string labels, size n\n",
    "        seed_ids: initial labelled set set, as a list of indices [0..n-1] into pool\n",
    "        train_func: function which given (X, y, optional args) returns a trained model\n",
    "        select_func: function which given (X, optional args) returns a sequence of scores\n",
    "        max_size: stopping condition for active learning, when labelled data reaches given size\n",
    "        batch_size: number of instances to be labelled in each iteration\n",
    "        args: optional arguments passed to training and selection function\n",
    "    returns the sequence of trained models \n",
    "    \"\"\"\n",
    "    question = kwargs.get('question', False)\n",
    "\n",
    "    # for easier notation\n",
    "    X_labelled = X_pool[seed_ids]\n",
    "    y_labelled = y_pool[seed_ids]\n",
    "    X_unlabelled = np.delete(X_pool, seed_ids, axis=0)\n",
    "    y_unlabelled = np.delete(y_pool, seed_ids)\n",
    "    \n",
    "    # iter_num is the value of T (45)\n",
    "    iter_num = (max_size-len(X_labelled)) // batch_size\n",
    "    # store sequence of trained models\n",
    "    trained_models = [0 for _ in range(iter_num)]\n",
    "    \n",
    "    for t in range(iter_num):\n",
    "        if t % 3 == 0:\n",
    "            print(f\"iter {t}...\")\n",
    "        # train model using current lablled train set (#iter_num=t is for QBC)\n",
    "        trained_models[t] = train_func(X_labelled, y_labelled, iter_num=t, **kwargs)\n",
    "        # rank (score) unlabelled train sets using select_func\n",
    "        scores = select_func(X_unlabelled, trained_models[t], **kwargs)\n",
    "        # Get indices of batch_size(=60) maximising elements of scores, with random tie-breaking\n",
    "        # Tie-breaking done by sorting according to scores, then by a randomly generated array\n",
    "        rand_arr = np.random.random(len(scores))\n",
    "        queries = np.flipud(np.lexsort((rand_arr, scores)))[:batch_size]\n",
    "        \n",
    "        # For QBC, we need to replace the committee with a standard logistic regression\n",
    "        if question == \"Q4\":\n",
    "            trained_models[t] = train_logistic_regression(X_labelled, y_labelled, **kwargs)\n",
    "        \n",
    "        # reveal all queries and add them into labelled train set\n",
    "        X_labelled = np.vstack((X_labelled, X_unlabelled[queries]))\n",
    "        y_labelled = np.hstack((y_labelled, y_unlabelled[queries]))\n",
    "        \n",
    "        # remove queries from unlabelled train set\n",
    "        X_unlabelled = np.delete(X_unlabelled, queries, axis=0)\n",
    "        y_unlabelled = np.delete(y_unlabelled, queries)\n",
    "        \n",
    "    return trained_models"
   ]
  },
  {
   "cell_type": "markdown",
   "id": "c7e16120",
   "metadata": {},
   "source": [
    "#### Run the active learning algorithm with random heuristic"
   ]
  },
  {
   "cell_type": "code",
   "execution_count": 321,
   "id": "6093af5b",
   "metadata": {},
   "outputs": [],
   "source": [
    "batch = 60\n",
    "max_size = 3000"
   ]
  },
  {
   "cell_type": "markdown",
   "id": "3ac555e1",
   "metadata": {},
   "source": [
    "```python\n",
    "# Run active learning using random heuristic\n",
    "models_random = pool_based_active_learning(X_pool, y_pool, seed_set, \n",
    "                                    train_logistic_regression, random_select, \n",
    "                                    max_size, batch)\n",
    "\n",
    "# Save output\n",
    "pickle.dump(models_random, open('files/Q2_models_random.sav', 'wb'))\n",
    "```"
   ]
  },
  {
   "cell_type": "code",
   "execution_count": 322,
   "id": "394fc77e",
   "metadata": {},
   "outputs": [
    {
     "name": "stderr",
     "output_type": "stream",
     "text": [
      "/home/ghpark/.local/lib/python3.7/site-packages/sklearn/base.py:315: UserWarning: Trying to unpickle estimator LogisticRegression from version 0.23.0 when using version 0.24.1. This might lead to breaking code or invalid results. Use at your own risk.\n",
      "  UserWarning)\n"
     ]
    }
   ],
   "source": [
    "models_random = pickle.load(open('files/Q2_models_random.sav', 'rb'))"
   ]
  },
  {
   "cell_type": "markdown",
   "id": "f2617bab",
   "metadata": {},
   "source": [
    "#### your code here for evaluation of accuracy and plotting of results"
   ]
  },
  {
   "cell_type": "markdown",
   "id": "164b7742",
   "metadata": {},
   "source": [
    "```python\n",
    "# Compute accuracies for random select heuristic\n",
    "accuracies = [evaluate_logistic_regression_accuracy(X_test, y_test, model) for model in models_random]\n",
    "pickle.dump(accuracies, open('files/Q2_accuracies.sav', 'wb'))\n",
    "```"
   ]
  },
  {
   "cell_type": "code",
   "execution_count": 323,
   "id": "8b12ddf2",
   "metadata": {},
   "outputs": [],
   "source": [
    "accs_dict = dict()\n",
    "accuracies = pickle.load(open('files/Q2_accuracies.sav', 'rb'))\n",
    "accs_dict[\"Random heuristic\"] = accuracies\n"
   ]
  },
  {
   "cell_type": "code",
   "execution_count": 324,
   "id": "8438389d",
   "metadata": {},
   "outputs": [],
   "source": [
    "def plot_accuracies(accs_dict, until, acc_full, i=0):\n",
    "    \"\"\"\n",
    "    Plot accuracies over train set sizes.\n",
    "    accs_dict: dictionary containing each methods (random, vote entropy, etc.)' accuracies\n",
    "    until: xmax for plotting\n",
    "    acc_full: accuracy obtained for full dataset, for comparison-sake\n",
    "    i: for color scheme shift\n",
    "    \"\"\"\n",
    "    # x_range\n",
    "    x = np.arange(300, until, 60) #+ [len(X_pool)]\n",
    "    # color cycles\n",
    "    cycle = plt.rcParams['axes.prop_cycle'].by_key()['color']\n",
    "    \n",
    "    # plot each line\n",
    "    i = i\n",
    "    for type_, accs in accs_dict.items():\n",
    "        plt.plot(x, accs[:len(x)], color=cycle[i], lw=1, label=type_, marker='x', ls='--') \n",
    "        i += 1\n",
    "    # plot acc for full train set\n",
    "    plt.hlines(y=acc_full, color='black', linestyle=':',\n",
    "               xmin=300, xmax=until, label=\"Full Train set\")\n",
    "    \n",
    "    plt.title(\"Test accuracy compared to number of training instances\")\n",
    "    plt.xlabel(\"Train set size (# of labelled instances)\")\n",
    "    plt.ylabel(\"Test accuracy\")\n",
    "    plt.legend(loc=4)\n",
    "    plt.show()"
   ]
  },
  {
   "cell_type": "code",
   "execution_count": 325,
   "id": "3895cbf1",
   "metadata": {},
   "outputs": [
    {
     "data": {
      "image/png": "[encoded data removed]",
      "text/plain": [
       "<Figure size 720x432 with 1 Axes>"
      ]
     },
     "metadata": {
      "needs_background": "light"
     },
     "output_type": "display_data"
    }
   ],
   "source": [
    "plot_accuracies(accs_dict, 3000, acc_full)"
   ]
  },
  {
   "cell_type": "markdown",
   "id": "532837dc",
   "metadata": {},
   "source": [
    "- Plot of test accuracy vs train set sizes.\n",
    "    - Note the test accuracy is calculated each time the batch of 60 new instances are included, and these points are linearly interpolated to produce the curve above."
   ]
  },
  {
   "cell_type": "markdown",
   "id": "12022ba5",
   "metadata": {},
   "source": [
    "- Note: I ran 45 iterations of active learning including the initial iteration with 300-sized dataset, so my models actually train only up to train sets of size 2940.\n",
    "    - I've asked Trevor on Piazza for this (in the comment), and he said I don't need to re-run everything just to include the 3000-sized dataset.\n",
    "    - (https://piazza.com/class/klh5w6m0bu16fm?cid=137)"
   ]
  },
  {
   "cell_type": "code",
   "execution_count": 327,
   "id": "8bb44153",
   "metadata": {},
   "outputs": [
    {
     "data": {
      "text/plain": [
       "0.4945020746887967"
      ]
     },
     "execution_count": 327,
     "metadata": {},
     "output_type": "execute_result"
    }
   ],
   "source": [
    "accs_dict[\"Random heuristic\"][-1]"
   ]
  },
  {
   "cell_type": "markdown",
   "id": "b59c252d",
   "metadata": {},
   "source": [
    "- During the iterations of active learning (i.e. as we reveal more batches of labels into the training set) the test accuracy improves quite steadily. \n",
    "- Logistic regression classifier trained on 2940 instances using active learning with random heuristics achieves an accuracy of about 0.495."
   ]
  },
  {
   "cell_type": "markdown",
   "id": "af82eff2",
   "metadata": {},
   "source": [
    "## 3. Uncertainty sampling"
   ]
  },
  {
   "cell_type": "code",
   "execution_count": 328,
   "id": "c87705fe",
   "metadata": {},
   "outputs": [],
   "source": [
    "def logistic_regression_entropy_select(X, model, **kwargs):\n",
    "    \"\"\"\n",
    "    Given an unlabelled dataset X, a matrix of n x d, and a discriminative model \n",
    "    P(y|x), returns a vector of n entropy values.\n",
    "    \"\"\"\n",
    "    \n",
    "    # probability of an unlabelled instance belonging in each of the 30 classes\n",
    "    probs = model.predict_proba(X)\n",
    "    \n",
    "    # compute entropy\n",
    "    scores = entropy(probs, axis=1)\n",
    "    \n",
    "    return scores"
   ]
  },
  {
   "cell_type": "markdown",
   "id": "6f72d04a",
   "metadata": {},
   "source": [
    "#### Training"
   ]
  },
  {
   "cell_type": "markdown",
   "id": "174496fa",
   "metadata": {
    "scrolled": true
   },
   "source": [
    "```python\n",
    "# Run active learning using entropy select criteria\n",
    "models_us = pool_based_active_learning(X_pool, y_pool, seed_set, \n",
    "                                 train_logistic_regression, \n",
    "                                 logistic_regression_entropy_select, \n",
    "                                 max_size, batch)\n",
    "\n",
    "# Save output\n",
    "pickle.dump(models_us, open('files/Q3_models_us_changed.sav', 'wb'))\n",
    "```"
   ]
  },
  {
   "cell_type": "code",
   "execution_count": 329,
   "id": "a49d107b",
   "metadata": {},
   "outputs": [],
   "source": [
    "models_us = pickle.load(open('files/Q3_models_us_changed.sav', 'rb'))"
   ]
  },
  {
   "cell_type": "code",
   "execution_count": 20,
   "id": "66d752ba",
   "metadata": {},
   "outputs": [],
   "source": [
    "## your code here for evaluation of accuracy and plotting of results"
   ]
  },
  {
   "cell_type": "markdown",
   "id": "0236309c",
   "metadata": {},
   "source": [
    "#### Compute accuracy"
   ]
  },
  {
   "cell_type": "markdown",
   "id": "745895f9",
   "metadata": {},
   "source": [
    "```python\n",
    "accuracies_q3 = [evaluate_logistic_regression_accuracy(X_test, y_test, model) for model in models_us]\n",
    "pickle.dump(accuracies_q3, open('files/Q3_accuracies_q3_changed.sav', 'wb'))\n",
    "```"
   ]
  },
  {
   "cell_type": "code",
   "execution_count": 330,
   "id": "45a7f874",
   "metadata": {},
   "outputs": [],
   "source": [
    "accuracies_q3 = pickle.load(open('files/Q3_accuracies_q3_changed.sav', 'rb'))\n",
    "accs_dict[\"Uncertainty sampling\"] = accuracies_q3"
   ]
  },
  {
   "cell_type": "code",
   "execution_count": 331,
   "id": "a71e8bc1",
   "metadata": {},
   "outputs": [
    {
     "data": {
      "image/png": "[encoded data removed]",
      "text/plain": [
       "<Figure size 720x432 with 1 Axes>"
      ]
     },
     "metadata": {
      "needs_background": "light"
     },
     "output_type": "display_data"
    }
   ],
   "source": [
    "plot_accuracies(accs_dict, 3000, acc_full)"
   ]
  },
  {
   "cell_type": "code",
   "execution_count": 332,
   "id": "d6294dcc",
   "metadata": {},
   "outputs": [
    {
     "data": {
      "text/plain": [
       "(0.4945020746887967, 0.504253112033195)"
      ]
     },
     "execution_count": 332,
     "metadata": {},
     "output_type": "execute_result"
    }
   ],
   "source": [
    "accs_dict[\"Random heuristic\"][-1], accs_dict[\"Uncertainty sampling\"][-1]"
   ]
  },
  {
   "cell_type": "markdown",
   "id": "e76abd21",
   "metadata": {},
   "source": [
    "- From the graph, we see that both methods Random heuristic and Uncertainty sampling approximately give the same text accuracy over the course of active learning, but we see that uncertainty sampling seems to progressively achieve a little higher test accuracy.\n",
    "- For the final logistic regression trained on 2940 instances:\n",
    "    - Random heuristic gives a test accuracy of about 0.495 as mentioned previously.\n",
    "    - Uncertainty sampling achieves a test accuracy of about 0.504, which is a small improvement.\n",
    "    \n",
    "- In conclusion, the test accuracy values over the course of active learning are rather similar. We find that uncertainty sampling has marginally improved the test accuracy of logistic regression trained on 2940 training examples compared to random heuristic, from 0.495 to 0.504."
   ]
  },
  {
   "cell_type": "markdown",
   "id": "3df31d60",
   "metadata": {},
   "source": [
    "## 4. Query by committee"
   ]
  },
  {
   "cell_type": "markdown",
   "id": "fd161d71",
   "metadata": {},
   "source": [
    "- Query by committee methods require us to a) train an ensemble, and b) train a vanilla logistic regression model for result reporting.\n",
    "- Here, we use bagging as the ensemble (size 2) technique.\n",
    "- Following the diversification idea of bagging, it is sensible to have an estimator that has low bias (overfit) with high variance as the base estimator in the bagging ensemble. \n",
    "- A simple, common choice is to use decision trees.\n",
    "- I ran some empirical experimentation with decision trees and logistic regression as the base estimator.\n",
    "    - I saw that while having decision tree as the base estimator shortens the training time, the performance was rather unstable (only slightly worse if non-scaled data, but much worse for scaled data) compared to active learning using logistic regression as the base estimator.\n",
    "    - Hence, I decided to use logistic regression as the base estimator with non-scaled data."
   ]
  },
  {
   "cell_type": "code",
   "execution_count": 333,
   "id": "71b0f650",
   "metadata": {},
   "outputs": [],
   "source": [
    "# don't forget to provide function descriptive comments, like those provided in templates above\n",
    "\n",
    "def query_by_committee_vote_entropy(X, model, **kwargs):\n",
    "    \"\"\"\n",
    "    Given an unlabelled dataset X, a matrix of n x d, and a bagged model (a list of 2 logistic\n",
    "    regression classifiers from bagging)\n",
    "    returns a vector of scores of length n. Each entry reflects vote entropy for the instance.\n",
    "    \"\"\"\n",
    "    \n",
    "    # extract fitted logistic models\n",
    "    model_0 = model.estimators_[0]\n",
    "    model_1 = model.estimators_[1]\n",
    "    \n",
    "    # number of classifiers in ensemble\n",
    "    C_ = len(model.estimators_)\n",
    "    # predict labels using each committee member\n",
    "    pred_labels = [(label1, label2) for label1, label2 in zip(model_0.predict(X),\n",
    "                                                              model_1.predict(X))]\n",
    "    \n",
    "    # compute (hard) vote entropy for each entry\n",
    "    scores = [entropy(np.unique(pred, return_counts=True)[1]/C_) for pred in pred_labels]\n",
    "\n",
    "    return np.array(scores)\n",
    "\n",
    "def query_by_committee_soft_vote_entropy(X, model, **kwargs):\n",
    "    \"\"\"\n",
    "    Given an unlabelled dataset X, a matrix of n x d, and a bagged model (a list of 2 logistic\n",
    "    regression classifiers from bagging)\n",
    "    returns a vector of scores of length n. Each entry reflects soft vote entropy.\n",
    "    \"\"\"\n",
    "\n",
    "    # extract fitted logistic models\n",
    "    model_0 = model.estimators_[0]\n",
    "    model_1 = model.estimators_[1]\n",
    "    \n",
    "    # number of classifiers in ensemble\n",
    "    C_ = len(model.estimators_)\n",
    "    pred_probs = np.array([(label1, label2) for label1, label2 in \\\n",
    "                  zip(model_0.predict_proba(X),\n",
    "                      model_1.predict_proba(X))])\n",
    "    consesus_prob = pred_probs.mean(axis=1)\n",
    "    \n",
    "    # compute soft vote entropy for each entry\n",
    "    scores = entropy(consesus_prob, axis=1)\n",
    "\n",
    "    return scores\n",
    "\n",
    "def query_by_committee_KL(X, model, **kwargs):\n",
    "    \"\"\"\n",
    "    Given an unlabelled dataset X, a matrix of n x d, and a bagged model (a list of 2 logistic\n",
    "    regression classifiers from bagging)\n",
    "    returns a vector of scores of length n. Each entry reflects the measure using KL-divergence.\n",
    "    \"\"\"\n",
    "    \n",
    "    # extract fitted logistic models\n",
    "    model_0 = model.estimators_[0]\n",
    "    model_1 = model.estimators_[1]\n",
    "    predict_proba_0 = model_0.predict_proba(X)\n",
    "    predict_proba_1 = model_1.predict_proba(X)\n",
    "    \n",
    "    # number of classifiers in ensemble\n",
    "    C_ = len(model.estimators_)\n",
    "    pred_probs = np.array([(label1, label2) for label1, label2 in \\\n",
    "                  zip(predict_proba_0, predict_proba_1)])\n",
    "    \n",
    "    consesus_prob = pred_probs.mean(axis=1)\n",
    "    \n",
    "    KL_0 = entropy(predict_proba_0, consesus_prob, axis=1)\n",
    "    KL_1 = entropy(predict_proba_1, consesus_prob, axis=1)\n",
    "    scores = (KL_0 + KL_1) / C_\n",
    "    \n",
    "    return np.array(scores)"
   ]
  },
  {
   "cell_type": "code",
   "execution_count": 334,
   "id": "a7049b60",
   "metadata": {},
   "outputs": [],
   "source": [
    "def train_committee(X, y, **kwargs):\n",
    "    \"\"\"\n",
    "    Train a committee (size 2) of logistic regression models on bagged datasets\n",
    "    and return trained committee members as a list of size 2.\n",
    "    X: matrix of real values, size n x d\n",
    "    y: vector of string labels, size n\n",
    "    kwargs: optional arguments e.g., for hyper-parameters\n",
    "    \"\"\"\n",
    "\n",
    "    # parse keyword args    \n",
    "    penalty, C, random_state, solver, max_iter, multi_class = parse_kwargs(**kwargs)\n",
    "    iter_num = kwargs.get(\"iter_num\")\n",
    "    assert type(iter_num) is int, 'type int required for iter_num'\n",
    "\n",
    "    \n",
    "    # Create a committee of 2 logistic regression classifiers trained on bagged data\n",
    "    committee = BaggingClassifier(base_estimator=LogisticRegression(penalty=penalty, C=C,\n",
    "                solver=solver, max_iter=max_iter, multi_class=multi_class, n_jobs=-1),\n",
    "                n_estimators=2, max_samples=1.0, bootstrap=True, n_jobs=-1, random_state=iter_num)\n",
    "    committee.fit(X, y)\n",
    "\n",
    "    return committee"
   ]
  },
  {
   "cell_type": "markdown",
   "id": "787565af",
   "metadata": {},
   "source": [
    "#### QBC - Vote entropy"
   ]
  },
  {
   "cell_type": "markdown",
   "id": "22fa2f72",
   "metadata": {},
   "source": [
    "```python\n",
    "# Run active learning using QBC soft vote entropy\n",
    "\n",
    "batch = 60\n",
    "max_size = 3000\n",
    "\n",
    "models_qbc_ve = pool_based_active_learning(X_pool, y_pool, seed_set, \n",
    "                                 train_committee, \n",
    "                                 query_by_committee_vote_entropy, \n",
    "                                 max_size, batch, question=\"Q4\")\n",
    "\n",
    "# Save output\n",
    "pickle.dump(models_qbc_ve, open('files/Q4_models_qbc_ve.sav', 'wb'))\n",
    "```"
   ]
  },
  {
   "cell_type": "code",
   "execution_count": 335,
   "id": "fd8fafbe",
   "metadata": {},
   "outputs": [],
   "source": [
    "models_qbc_ve = pickle.load(open('files/Q4_models_qbc_ve.sav', 'rb'))"
   ]
  },
  {
   "cell_type": "markdown",
   "id": "0f9599d3",
   "metadata": {},
   "source": [
    "```python\n",
    "# calc. accuracies\n",
    "accuracies_q4_ve = [evaluate_logistic_regression_accuracy(X_test, y_test, model) for model in models_qbc_ve]\n",
    "# save output\n",
    "pickle.dump(accuracies_q4_ve, open('files/Q4_accuracies_ve.sav', 'wb'))\n",
    "```"
   ]
  },
  {
   "cell_type": "code",
   "execution_count": 336,
   "id": "9836c94c",
   "metadata": {},
   "outputs": [],
   "source": [
    "accuracies_q4_ve = pickle.load(open('files/Q4_accuracies_ve.sav', 'rb'))\n",
    "accs_dict[\"QBC VE\"] = accuracies_q4_ve"
   ]
  },
  {
   "cell_type": "markdown",
   "id": "8ea1b35e",
   "metadata": {},
   "source": [
    "#### QBC - Soft vote entropy"
   ]
  },
  {
   "cell_type": "markdown",
   "id": "e5155050",
   "metadata": {},
   "source": [
    "```python\n",
    "batch = 60\n",
    "max_size = 3000\n",
    "\n",
    "models_qbc_sve = pool_based_active_learning(X_pool, y_pool, seed_set, \n",
    "                                 train_committee, \n",
    "                                 query_by_committee_soft_vote_entropy, \n",
    "                                 max_size, batch, question=\"Q4\")\n",
    "\n",
    "pickle.dump(models_qbc_sve, open('files/Q4_models_qbc_sve.sav', 'wb'))\n",
    "```"
   ]
  },
  {
   "cell_type": "code",
   "execution_count": 337,
   "id": "7756f2f5",
   "metadata": {},
   "outputs": [],
   "source": [
    "models_qbc_sve = pickle.load(open('files/Q4_models_qbc_sve.sav', 'rb'))"
   ]
  },
  {
   "cell_type": "markdown",
   "id": "fa9c772a",
   "metadata": {},
   "source": [
    "```python\n",
    "accuracies_q4_sve = [evaluate_logistic_regression_accuracy(X_test, y_test, model) for model in models_qbc_sve]\n",
    "pickle.dump(accuracies_q4_sve, open('files/Q4_accuracies_sve.sav', 'wb'))\n",
    "```"
   ]
  },
  {
   "cell_type": "code",
   "execution_count": 338,
   "id": "12b59cbd",
   "metadata": {},
   "outputs": [],
   "source": [
    "accuracies_q4_sve = pickle.load(open('files/Q4_accuracies_sve.sav', 'rb'))\n",
    "accs_dict[\"QBC SVE\"] = accuracies_q4_sve"
   ]
  },
  {
   "cell_type": "markdown",
   "id": "e84abb89",
   "metadata": {},
   "source": [
    "#### QBC KL"
   ]
  },
  {
   "cell_type": "markdown",
   "id": "174d832d",
   "metadata": {},
   "source": [
    "```python\n",
    "# Run active learning using QBC KL\n",
    "\n",
    "batch = 60\n",
    "max_size = 3000\n",
    "\n",
    "models_qbc_KL = pool_based_active_learning(X_pool, y_pool, seed_set, \n",
    "                                 train_committee, \n",
    "                                 query_by_committee_KL, \n",
    "                                 max_size, batch, question=\"Q4\")\n",
    "\n",
    "# Save output\n",
    "pickle.dump(models_qbc_KL, open('files/Q4_models_qbc_KL.sav', 'wb'))\n",
    "```"
   ]
  },
  {
   "cell_type": "code",
   "execution_count": 339,
   "id": "90fd24f6",
   "metadata": {},
   "outputs": [],
   "source": [
    "models_qbc_KL = pickle.load(open('files/Q4_models_qbc_KL.sav', 'rb'))"
   ]
  },
  {
   "cell_type": "markdown",
   "id": "507eff71",
   "metadata": {},
   "source": [
    "```python\n",
    "accuracies_q4_KL = [evaluate_logistic_regression_accuracy(X_test, y_test, model) for model in models_qbc_KL]\n",
    "pickle.dump(accuracies_q4_KL, open('files/accuracies_q4_KL.sav', 'wb'))\n",
    "```"
   ]
  },
  {
   "cell_type": "code",
   "execution_count": 340,
   "id": "69c4184f",
   "metadata": {},
   "outputs": [],
   "source": [
    "accuracies_q4_KL = pickle.load(open('files/accuracies_q4_KL.sav', 'rb'))\n",
    "accs_dict[\"QBC KL\"] = accuracies_q4_KL"
   ]
  },
  {
   "cell_type": "code",
   "execution_count": 341,
   "id": "6105dee6",
   "metadata": {},
   "outputs": [],
   "source": [
    "qbc_dict = {}\n",
    "qbc_dict[\"QBC VE\"] = accuracies_q4_ve\n",
    "qbc_dict[\"QBC SVE\"] = accuracies_q4_sve\n",
    "qbc_dict[\"QBC KL\"] = accuracies_q4_KL"
   ]
  },
  {
   "cell_type": "code",
   "execution_count": 342,
   "id": "4276f2fa",
   "metadata": {},
   "outputs": [
    {
     "data": {
      "image/png": "[encoded data removed]",
      "text/plain": [
       "<Figure size 720x432 with 1 Axes>"
      ]
     },
     "metadata": {
      "needs_background": "light"
     },
     "output_type": "display_data"
    },
    {
     "data": {
      "image/png": "[encoded data removed]",
      "text/plain": [
       "<Figure size 720x432 with 1 Axes>"
      ]
     },
     "metadata": {
      "needs_background": "light"
     },
     "output_type": "display_data"
    }
   ],
   "source": [
    "plot_accuracies(qbc_dict, 3000, acc_full, 2)\n",
    "plot_accuracies(accs_dict, 3000, acc_full, 0)"
   ]
  },
  {
   "cell_type": "code",
   "execution_count": 343,
   "id": "9b4c9bcb",
   "metadata": {},
   "outputs": [
    {
     "data": {
      "text/plain": [
       "[('QBC VE', 0.4935684647302905),\n",
       " ('QBC SVE', 0.49937759336099585),\n",
       " ('QBC KL', 0.49802904564315353)]"
      ]
     },
     "execution_count": 343,
     "metadata": {},
     "output_type": "execute_result"
    }
   ],
   "source": [
    "[(key, value[-1]) for key, value in qbc_dict.items()]"
   ]
  },
  {
   "cell_type": "markdown",
   "id": "7b4a2a7c",
   "metadata": {},
   "source": [
    "- The first plot shows the test accuracy curves for the three query-by-committee methods.\n",
    "- We see that again, the test accuracy values over the course of active learning are rather similar.\n",
    "- However, it is noticeable that QBC SVE consistently achieves marginally higher test accuracies for almost all train set sizes. \n",
    "- The final logistic regression trained on 2940-sized train set gave accuracies of about 0.494, 0.499, 0.498 for vote entropy, soft vote entropy and KL-based method respectively. These are very small differences again, but the SVE and KL approaches do give higher test accuracies than plain VE."
   ]
  },
  {
   "cell_type": "code",
   "execution_count": 344,
   "id": "7abb32de",
   "metadata": {},
   "outputs": [
    {
     "data": {
      "text/plain": [
       "[('Random heuristic', 0.4945020746887967),\n",
       " ('Uncertainty sampling', 0.504253112033195),\n",
       " ('QBC VE', 0.4935684647302905),\n",
       " ('QBC SVE', 0.49937759336099585),\n",
       " ('QBC KL', 0.49802904564315353)]"
      ]
     },
     "execution_count": 344,
     "metadata": {},
     "output_type": "execute_result"
    }
   ],
   "source": [
    "[(key, value[-1]) for key, value in accs_dict.items()]"
   ]
  },
  {
   "cell_type": "markdown",
   "id": "f6058ec9",
   "metadata": {},
   "source": [
    "- The second plot shows the test accuracy curves for all 5 sampling methods implemented so far.\n",
    "- We see that QBC VE actually performed marginally worse than the random heuristic for the test accuracy for the final logistic regression classifier trained on 2940-sized train set.\n",
    "- All other sampling methods achieved marginally higher final test accuracies than the random heuristic.\n",
    "- The highest test accuracy of 0.504 was achieved with uncertainty sampling."
   ]
  },
  {
   "cell_type": "markdown",
   "id": "c1f0dd46",
   "metadata": {},
   "source": [
    "## 5. Hierarchical sampling"
   ]
  },
  {
   "cell_type": "code",
   "execution_count": 345,
   "id": "bffc258e",
   "metadata": {},
   "outputs": [],
   "source": [
    "## your code"
   ]
  },
  {
   "cell_type": "markdown",
   "id": "145fcb11",
   "metadata": {},
   "source": [
    "- X_pool is scaled for question 5, as standardisation is usually helpful for clustering.\n",
    "- Agglomerative (bottom-up) approach is used for hierarchical clustering as the paper implicitly suggests.\n",
    "    - L1, or Manhattan distance metric is used to compute the linkage. The reason is that it is generally known that for high dimensional data, the L1-distance (manhattan) metric is more reliable than L2 (euclidean) due to the curse of high-dimensionality.\n",
    "    - Average linkage criterion is used as the paper suggests.\n",
    "- The paper is quite vague about specific implementation details, so in those cases I tried to follow the main idea of the paper but filling in the details by myself as sensibly as possible.\n",
    "- Note: For hierarchical sampling, I treated all of X_pool as just 'unobserved'. So I treated the 300-sized seed set as already observed instances.\n",
    "    - Trevor's comment in: https://piazza.com/class/klh5w6m0bu16fm?cid=106 suggest this approach, but he later also suggests that using the 300 seed set to guide initial pruning in a meaningful way is sensible too (https://piazza.com/class/klh5w6m0bu16fm?cid=125).\n",
    "        - I did not get to implement the latter method."
   ]
  },
  {
   "cell_type": "code",
   "execution_count": 346,
   "id": "da4d33ed",
   "metadata": {},
   "outputs": [],
   "source": [
    "X_pool_scaled = StandardScaler().fit_transform(X_pool)"
   ]
  },
  {
   "cell_type": "markdown",
   "id": "4f96a5b7",
   "metadata": {},
   "source": [
    "```python\n",
    "y_pool_int = [np.where(np.unique(y_pool)==y_pool[i])[0][0] for i in range(len(y_pool))]\n",
    "pickle.dump(y_pool_int, open('files/Q5_y_pool_int.sav', 'wb'))\n",
    "```"
   ]
  },
  {
   "cell_type": "code",
   "execution_count": 347,
   "id": "c1b04e95",
   "metadata": {},
   "outputs": [],
   "source": [
    "# int transformed labels for y_pool\n",
    "y_pool_int = pickle.load(open('files/Q5_y_pool_int.sav', 'rb'))"
   ]
  },
  {
   "cell_type": "markdown",
   "id": "8f8ec9e1",
   "metadata": {},
   "source": [
    "```python\n",
    "cluster = AgglomerativeClustering(n_clusters=1, affinity='manhattan', linkage='average')\n",
    "cluster.fit(X_pool_scaled)\n",
    "pickle.dump(cluster, open('files/Q5_cluster.sav', 'wb'))\n",
    "```"
   ]
  },
  {
   "cell_type": "code",
   "execution_count": 348,
   "id": "919b4353",
   "metadata": {},
   "outputs": [],
   "source": [
    "cluster = pickle.load(open('files/Q5_cluster.sav', 'rb'))"
   ]
  },
  {
   "cell_type": "code",
   "execution_count": 349,
   "id": "f06f93e8",
   "metadata": {},
   "outputs": [],
   "source": [
    "def check_types(cluster, tree, X_pool, y_pool_int, max_iter, batch_size, random_state):\n",
    "    \"\"\"\n",
    "    check input types that go in to hierarchical_sampling\n",
    "    \"\"\"\n",
    "    assert type(cluster) is sklearn.cluster._agglomerative.AgglomerativeClustering, \\\n",
    "    'Check input type for cluster'\n",
    "    assert type(tree) is Tree, 'Check input type for tree'\n",
    "    assert type(X_pool) is np.ndarray, 'Check input type for X_pool'\n",
    "    assert type(y_pool_int) is list, 'Check input type for y_pool_int'\n",
    "    assert type(max_iter) is int, 'Check input type for max_iter'\n",
    "    assert type(batch_size) is int, 'Check input type for batch_size'\n",
    "    assert type(random_state) is int, 'Check input type for random_state'\n",
    "    \n",
    "    return"
   ]
  },
  {
   "cell_type": "code",
   "execution_count": 350,
   "id": "eec64e30",
   "metadata": {},
   "outputs": [],
   "source": [
    "class Tree():\n",
    "    \"\"\"\n",
    "    Tree class for initial hierarchical clustering and some associated methods that help in \n",
    "    the hierarchical sampling algorithm.\n",
    "        __init__: set up the tree, relevant attributes, and the list of left children and right children for each node.\n",
    "        get_leaves: return a list that contains all the leaves contained in subtree with root 'node'.\n",
    "    \"\"\"\n",
    "\n",
    "    def __init__(self, cluster):\n",
    "        \n",
    "        N_A = -1\n",
    "        children = cluster.children_\n",
    "        self.num_leaves = len(children) + 1\n",
    "        # num_nodes is nodes + leaves\n",
    "        self.num_nodes = 2 * self.num_leaves - 1\n",
    "        \n",
    "        self.parent = np.full(self.num_nodes, N_A, dtype=int)\n",
    "        # size is the number of instances you have in the subtree T_node\n",
    "        self.size = np.zeros(self.num_nodes, dtype=int)\n",
    "        self.depth = np.zeros(self.num_nodes, dtype=int)\n",
    "        \n",
    "        # maintain a list of queried instance indicies, so we don't query it more than once\n",
    "        self.queried_nodes = []\n",
    "        \n",
    "        for i, (left_child, right_child) in enumerate(children):\n",
    "            parent = i + self.num_leaves\n",
    "            self.parent[left_child] = parent\n",
    "            self.parent[right_child] = parent\n",
    "        self.left_child = np.concatenate([np.full(self.num_leaves, N_A), \\\n",
    "                                          children[:,0]]).astype(int)\n",
    "        self.right_child = np.concatenate([np.full(self.num_leaves, N_A), \\\n",
    "                                           children[:,1]]).astype(int)\n",
    "        \n",
    "\n",
    "        # count the number of instances in each node, starting from leaves going up to root\n",
    "        for i in range(self.num_leaves):\n",
    "            node = i\n",
    "            cur_depth = 0\n",
    "            # stop when you hit a parent that is -1 (N_A)\n",
    "            while node != N_A:\n",
    "                assert node >= 0 and node < self.num_nodes\n",
    "                self.size[node] += 1\n",
    "                self.depth[node] = max(self.depth[node], cur_depth)\n",
    "                cur_depth += 1\n",
    "                node = self.parent[node]\n",
    "    \n",
    "    def get_leaves(self, node):\n",
    "        \"\"\"\n",
    "        Get all instances (leaves) list contained in subtree T_node\n",
    "        \"\"\"\n",
    "        if node < self.num_leaves:\n",
    "            return [node]\n",
    "        \n",
    "        self.leaves = []\n",
    "        def _get_leaves(node):\n",
    "            #pdb.set_trace()\n",
    "            if node == -1:\n",
    "                return\n",
    "            if self.left_child[node] == -1:\n",
    "                self.leaves.append(node)\n",
    "            _get_leaves(self.left_child[node])\n",
    "            _get_leaves(self.right_child[node])\n",
    "        _get_leaves(node)\n",
    "        return self.leaves\n",
    "    \n",
    "    \n",
    "# for testing on small example\n",
    "cluster_test = AgglomerativeClustering(n_clusters=1, affinity='manhattan', linkage='average')\n",
    "cluster_test.fit(X_pool_scaled[:5])\n",
    "tree_test = Tree(cluster_test)"
   ]
  },
  {
   "cell_type": "markdown",
   "id": "4456ca84",
   "metadata": {},
   "source": [
    "- Note: for the function of selecting a node from a given pruning, page 4 from paper uses $p^{UB}$. \n",
    "- However, in page 6, section 3.4, where it has more detail about the selection procedure, they use $p^{LB}$.\n",
    "    - I believe this is the correct one, and $p^{UB}$ on page 4 may be a typo.\n",
    "    - Empirically, I obtained better results using LB instead of UB."
   ]
  },
  {
   "cell_type": "code",
   "execution_count": 351,
   "id": "1ca13954",
   "metadata": {},
   "outputs": [],
   "source": [
    "def select_node(tree, pruning_P, lower_bound, upper_bound, best_labels):\n",
    "    \"\"\"\n",
    "    Select a node given a set of pruning P. \n",
    "    e.g) pruning_P = {7, 5, 13} -> then we select a node from this set.\n",
    "    This function implements active learning select procedure 2) in Dasgupta and Hsu (2008).\n",
    "        tree: tree class from Tree()\n",
    "        pruning_P: pruning index list\n",
    "        lower_bound: lower bound probabilities, dimension num_nodes (19279) x num labels (30)\n",
    "        upper_bound: upper bound probabilities. (not used)\n",
    "        best_labels: current best_labels list, dimension 19279x1\n",
    "    returns the chosen node index v from pruning P\n",
    "    \"\"\"\n",
    "    \n",
    "    # select the only node if pruning is a single node\n",
    "    if len(pruning_P) == 1:\n",
    "        return pruning_P[0]\n",
    "    \n",
    "    weights = []\n",
    "    for node in pruning_P:\n",
    "        label = best_labels[node]\n",
    "        weight = (tree.size[node]/tree.num_nodes) * (1 - lower_bound[node][label])\n",
    "        weights.append(weight)\n",
    "    weights = np.array(weights)\n",
    "    # normalising \n",
    "    probs = weights / np.sum(weights)\n",
    "    \n",
    "    return np.random.choice(pruning_P, p=probs)#, probs"
   ]
  },
  {
   "cell_type": "markdown",
   "id": "66a2f586",
   "metadata": {},
   "source": [
    "- Function for randomly picking a point $z$ from subtree $T_v$.\n",
    "- In the paper, I believe it didn't mention about not allowing repeated samples of same leaves.\n",
    "- But I thought it is not sensible to allow repeats.\n",
    "- 'dead' is a list that keeps track of already sampled leaves from main Hierarchical Sampling (HS) algorithm.\n",
    "- We remove the leaves in dead from the set of possible leaves to sample from.\n",
    "\n",
    "\n",
    "- Another modification/ self-implementation:\n",
    "    - In the paper, we only consider non-leaf nodes as possible nodes.\n",
    "    - But, actually, in the hierarchical clustering obtained, a leaf node was a direct child of the final root node. \n",
    "        - This made it infeasible to rule out considering a leaf node as a normal 'node' possible to be a part of pruning, since it would get stuck even at the initial step.\n",
    "        - So I allowed leaf nodes to behave like a normal non-leaf node as well.\n",
    "        - Shouldn't be too much of a deviation, since it leaf node has size 1 (very small), it will be highly unlikely that the leaf node will be repeatedly selected by the select function."
   ]
  },
  {
   "cell_type": "code",
   "execution_count": 352,
   "id": "554340c2",
   "metadata": {},
   "outputs": [],
   "source": [
    "def pick_random(tree, node_v, y_pool_int, best_labels, dead=None):\n",
    "    \"\"\"\n",
    "    return a randomly chosen leaf node from the given subtree with root 'node_v'\n",
    "        tree: tree class\n",
    "        node_v: root node we want to base our subtree on\n",
    "        y_pool_int: integer-transformed y labels for all instances\n",
    "        best_labels: array of current best labels for each node\n",
    "        dead: array of 'dead' leaves, which are the ones already sampled from the algorithm.\n",
    "    \"\"\"\n",
    "    # list of leaves of current subtree\n",
    "    leaves = tree.get_leaves(node_v)\n",
    "    \n",
    "    # remove dead leaves from set of possible leaves to sample from\n",
    "    if dead is not None:\n",
    "        leaves = list( set(leaves) - set(dead) )\n",
    "        \n",
    "    # if a leaf node was chosen, we return it back\n",
    "    if len(leaves) == 0:\n",
    "        return np.random.choice(tree.get_leaves(node_v))\n",
    "    \n",
    "    # randomly pick a leaf from the set of 'alive' leaves\n",
    "    return np.random.choice(leaves)"
   ]
  },
  {
   "cell_type": "code",
   "execution_count": 353,
   "id": "50dd96ff",
   "metadata": {},
   "outputs": [],
   "source": [
    "def update_counts(tree, node_v, leaf_x, label_x, total, label_counts, probs_p):\n",
    "    \"\"\"\n",
    "    Update empirical counts like total: count of leaves observed for each subtree rooted \n",
    "    at each node, label_counts: count of each label observed so far (for each node), probs_p:\n",
    "    probability p, on_path: the list of nodes on path from leaf leaf_x to node_v\n",
    "        tree: tree class for clustering\n",
    "        node_v: selected node\n",
    "        leaf_x: sampled (queried) node from subtree at node_v\n",
    "        label_x: label of leaf_x\n",
    "    \"\"\"\n",
    "    # get the path from queried leaf to node\n",
    "    on_path = []\n",
    "    curr_node = leaf_x\n",
    "    while curr_node != node_v:\n",
    "        on_path.append(curr_node)\n",
    "        curr_node = tree.parent[curr_node]\n",
    "    on_path.append(node_v)\n",
    "    \n",
    "    # update empirical quantities for all nodes 'on path'\n",
    "    total[on_path] += 1\n",
    "    label_counts[on_path, label_x] += 1\n",
    "    for i in range(30): # all labels\n",
    "        probs_p[on_path,i] = label_counts[on_path,i] / total[on_path]\n",
    "    \n",
    "    return total, label_counts, probs_p, on_path"
   ]
  },
  {
   "cell_type": "code",
   "execution_count": 354,
   "id": "4d020953",
   "metadata": {},
   "outputs": [],
   "source": [
    "def update_bounds(tree, lower_bound, upper_bound, probs_p, total, label_x, on_path):\n",
    "    \"\"\"\n",
    "    update the lower and upper bounds for probability \n",
    "        lower_bound: lower bound probabilities\n",
    "        upper_bound: upper bound probabilities\n",
    "        others: same as before\n",
    "    \"\"\"\n",
    "    # update bounds of all nodes on path from leaf to selected node\n",
    "    for node in on_path:\n",
    "        delta = (1/total[node]) + np.sqrt((probs_p[node,label_x]*(1-probs_p[node,label_x])) \\\n",
    "                                        / (total[node]))\n",
    "        lower_bound[node,label_x] = np.max((probs_p[node,label_x] - delta, np.zeros(1)))\n",
    "        upper_bound[node,label_x] = np.min((probs_p[node,label_x] + delta, np.ones(1)))\n",
    "    return lower_bound, upper_bound"
   ]
  },
  {
   "cell_type": "code",
   "execution_count": 355,
   "id": "31fcdce8",
   "metadata": {},
   "outputs": [],
   "source": [
    "def compute_epsilon_tilde(tree, node, l, admissible, probs_p):\n",
    "    \"\"\"\n",
    "    Compute epsilon tilde (estimate) for node v, label l\n",
    "        admissible: array denoting admissiblity of node v, label l\n",
    "    \"\"\"\n",
    "    \n",
    "    if admissible[node,l] == True:\n",
    "        epsilon_tilde = 1 - probs_p[node,l]\n",
    "    else:\n",
    "        epsilon_tilde = 1\n",
    "    return epsilon_tilde"
   ]
  },
  {
   "cell_type": "markdown",
   "id": "c4a0b719",
   "metadata": {},
   "source": [
    "- In the paper we keep the admissibility pair for each outer iteration step t.\n",
    "- In fact, we don't need to record for each t.\n",
    "    - From paper, admissibility can only change from False to True, but not True to False.\n",
    "        - page 4.\n",
    "    - We use this property and just use one 2-d array.\n",
    "    \n",
    "    \n",
    "- compute_score keeps track of scores, and records the way the scores were obtained.\n",
    "    - e.g. was it from splitting into 2 children, or not.\n",
    "    - we use this auxiliary information to help guide the pruning later on.\n",
    "    - best_labels is also updated in this function, based on splitting or not."
   ]
  },
  {
   "cell_type": "code",
   "execution_count": 409,
   "id": "5bd46732",
   "metadata": {},
   "outputs": [],
   "source": [
    "def compute_score(tree, node, l, admissible, scores_s, splitted, \n",
    "                  epsilon, best_labels, selected_nodes):\n",
    "    \"\"\"\n",
    "    Compute the score s for node v\n",
    "        splitted: Boolean array, True if node should be splitted in the pruning\n",
    "        selected_nodes: list of selected nodes in the batch B of HS algorithm\n",
    "    \"\"\"\n",
    "    left = tree.left_child[node]\n",
    "    right = tree.right_child[node]\n",
    "    \n",
    "    # get minimum value of epsilon tilde, across all l. and the index (label l)\n",
    "    min_eps, min_eps_idx = np.min(epsilon[node]), np.argmin(epsilon[node])\n",
    "    # set score and best label for node as the ones that achieve minimum value\n",
    "    scores_s[node], best_labels[node] = min_eps, min_eps_idx\n",
    "\n",
    "    # if node is admissible for some label, and is a non-leaf node. then consider splitting.\n",
    "    if node >= tree.num_leaves and admissible[node].sum() >= 1:\n",
    "        scores_s[node] = np.min(( min_eps, \\\n",
    "                                   (tree.size[left]/tree.size[node])*scores_s[left] \\\n",
    "                                     + (tree.size[right]/tree.size[node])*scores_s[right]))\n",
    "        \n",
    "        # weighted average scores from children gives better score -> we should split this node\n",
    "        if scores_s[node] < min_eps: #node in selected_nodes and:\n",
    "            splitted[node] = True\n",
    "\n",
    "    return scores_s[node]"
   ]
  },
  {
   "cell_type": "markdown",
   "id": "535d401c",
   "metadata": {},
   "source": [
    "- Records admissibility for node, label pairs, and computes scores by calling the function above."
   ]
  },
  {
   "cell_type": "code",
   "execution_count": 410,
   "id": "1edacf15",
   "metadata": {},
   "outputs": [],
   "source": [
    "def get_admissible_n_score(admissible, tree, num_labels, lower_bound, \n",
    "                            upper_bound, probs_p, scores_s, splitted, \n",
    "                           epsilon, best_labels, selected_nodes, y_pool_int):\n",
    "    \"\"\"\n",
    "    Update the set of admissible (v,l) pairs. Once admissible, stays admissible. we only add new.\n",
    "    Setting beta = 2 as suggested in the paper.\n",
    "        num_labels: 30\n",
    "    \"\"\"\n",
    "    \n",
    "    # bottom up traverse function for the tree, computing admissiblity and \n",
    "    # scores of all nodes in the tree\n",
    "    def bottom_up(tree, node):\n",
    "        # if it is a leaf node, we automatically label since it is already queried.\n",
    "        if node < tree.num_leaves:\n",
    "            best_labels[node] = y_pool_int[node]\n",
    "            return \n",
    "        \n",
    "        bottom_up(tree, tree.left_child[node])\n",
    "        bottom_up(tree, tree.right_child[node])\n",
    "        \n",
    "        for l in range(num_labels):\n",
    "            # we leave already admissible nodes as is. only consider further for non-admissible.\n",
    "            if admissible[node,l] == False:\n",
    "                flag = 0\n",
    "                for k in range(num_labels):\n",
    "                    if k!= l and lower_bound[node,l] <= 2*upper_bound[node,k] - 1:\n",
    "                        flag = 1\n",
    "                        break\n",
    "                if flag == 0:\n",
    "                    admissible[node,l] = True\n",
    "            # compute epsilon tilde\n",
    "            epsilon[node, l] = compute_epsilon_tilde(tree, node, l, admissible, probs_p)\n",
    "        # compute score for node, while recording whether to split, and current best label\n",
    "        scores_s[node] = compute_score(tree, node, l, admissible, scores_s, \n",
    "                                       splitted, epsilon, best_labels, selected_nodes)\n",
    "        \n",
    "    # bottom up traverse the tree!\n",
    "    root = tree.num_nodes - 1\n",
    "    bottom_up(tree, root)\n",
    "    \n",
    "    return admissible, scores_s"
   ]
  },
  {
   "cell_type": "code",
   "execution_count": 411,
   "id": "51192053",
   "metadata": {},
   "outputs": [],
   "source": [
    "def assign_labels(tree, node_v, best_labels, y_pool_hs, t):\n",
    "    \"\"\"\n",
    "    obtain a fully labelled dataset for every 5, starting from t=4 (300 datasets revealed),\n",
    "    using the current optimal pruning each time\n",
    "        y_pool_hs: return output for HS algorithm, a 9640x46 array, columns denoting\n",
    "        the fully-labelled dataset using pruning at everytime 60 instances are queried (from 300\n",
    "        to 3000)\n",
    "    \"\"\"\n",
    "    \n",
    "    leaves = tree.get_leaves(node_v)\n",
    "    y_pool_hs[:, t-4][leaves] = best_labels[node_v]\n",
    "    if best_labels[node_v] == -1:\n",
    "        pdb.set_trace()\n",
    "    return y_pool_hs[:, t-4]"
   ]
  },
  {
   "cell_type": "code",
   "execution_count": 412,
   "id": "415a1367",
   "metadata": {},
   "outputs": [],
   "source": [
    "def prune(node, splitted, tree, pruning_P):\n",
    "    \"\"\"\n",
    "    obtain a new optimal pruning given the split info and current pruning pruning_P\n",
    "    Recursive top down algorithm splitting each node if needed, while respecting all crucial\n",
    "    conditions like admissibility, etc.\n",
    "    \"\"\"\n",
    "    \n",
    "    # leaf node\n",
    "    if tree.depth[node] <= 1:\n",
    "        return\n",
    "    # doesn't split\n",
    "    if splitted[node] == False:\n",
    "        return\n",
    "    # split this node!\n",
    "    if splitted[node] == True:\n",
    "        # if node itself is not a leaf (if not children of leaf node)\n",
    "        if tree.depth[tree.left_child[node]] >= 0 and tree.depth[tree.right_child[node]] >= 0:\n",
    "            pruning_P.append(tree.left_child[node])\n",
    "            pruning_P.append(tree.right_child[node])\n",
    "            \n",
    "            if node in pruning_P:\n",
    "                pruning_P.remove(node)\n",
    "                \n",
    "        prune(tree.left_child[node], splitted, tree, pruning_P)\n",
    "        prune(tree.right_child[node], splitted, tree, pruning_P)"
   ]
  },
  {
   "cell_type": "code",
   "execution_count": 413,
   "id": "d7e90fe0",
   "metadata": {},
   "outputs": [],
   "source": [
    "def contained_leaves(tree, pruning):\n",
    "    \"\"\"\n",
    "    Get all the leaves contained in a given pruning.\n",
    "    Useful for debugging purposes, to check if current pruning does contain all leaves\n",
    "    \"\"\"\n",
    "    all_leaves = []\n",
    "    for node in pruning:\n",
    "        leaves = tree.get_leaves(node)\n",
    "        for leaf in leaves:\n",
    "            all_leaves.append(leaf)\n",
    "    return all_leaves"
   ]
  },
  {
   "cell_type": "markdown",
   "id": "4d46cdb2",
   "metadata": {},
   "source": [
    "#### Hierarchical Sampling algorithm"
   ]
  },
  {
   "cell_type": "code",
   "execution_count": 414,
   "id": "81b77c84",
   "metadata": {},
   "outputs": [],
   "source": [
    "def hierarchical_sampling(cluster, tree, X_pool, y_pool_int, \n",
    "                          max_iter, batch_size, random_state=1):\n",
    "    \"\"\"\n",
    "    Perform hierarchical sampling as discussed in the paper provided.\n",
    "        cluster: hierarchical clustering object of unlabeled data, with class\n",
    "                 sklearn.cluster._agglomerative.AgglomerativeClustering\n",
    "        tree: tree structure obtained from cluster\n",
    "        X_pool: unlabeled data, n x d\n",
    "        y_pool_int: pool of (int-transformed) labels for X_pool, n x 1\n",
    "        labels: vector of distinct labels, size 30\n",
    "        max_iter: budget for number of iterations (t=1,2,...,max_iter) (will use 50)\n",
    "        random_state: random seed state  for reproducibility\n",
    "        kwargs: optional keyword arguments passed to training and selection function\n",
    "    returns a sequence fully 'labelled' dataset, produced by the algorithm after each time\n",
    "    60 instances are queried. sequence is for 300 <= ... <= 3000 queries, so 9640 x 45.\n",
    "    \"\"\"\n",
    "    \n",
    "    # check input types are correct\n",
    "    check_types(cluster, tree, X_pool, y_pool_int, max_iter, batch_size, random_state)\n",
    "    \n",
    "    # set random seed\n",
    "    np.random.seed(random_state)\n",
    "    \n",
    "    # initialize pruning P as the root node (index 19279-1 = 19278)\n",
    "    pruning_P = [tree.num_nodes-1]\n",
    "    \n",
    "    # initialize counts, probs, scores, etc. \n",
    "    num_nodes = tree.num_nodes  # 19279 (number of 'nodes' + 'leaves' here)\n",
    "    num_labels = len(np.unique(y_pool_int)) # 30\n",
    "\n",
    "    total = np.zeros((num_nodes), dtype=int) # counts # of instances sampled from each node\n",
    "    label_counts = np.zeros((num_nodes, num_labels), dtype=int) # counts of queried labels\n",
    "    probs_p = np.zeros((num_nodes, num_labels), dtype=float) # probability p\n",
    "    scores_s = np.zeros((num_nodes), dtype=float) \n",
    "    epsilon = np.zeros((num_nodes, num_labels), dtype=float) \n",
    "    lower_bound = np.zeros((num_nodes, num_labels), dtype=float) # LB for p\n",
    "    upper_bound = np.zeros((num_nodes, num_labels), dtype=float) # UB for p\n",
    "    admissble = np.zeros((num_nodes, num_labels), dtype=bool)\n",
    "    best_labels = np.full((num_nodes), -1, dtype=int) # -1 default for not labelled yet\n",
    "    \n",
    "    # initialize best_label for root node just as 0\n",
    "    best_labels[num_nodes-1] = 0\n",
    "    \n",
    "    # for storing intermediate labellings across iterations\n",
    "    y_pool_hs = np.zeros((X_pool.shape[0], 46)) \n",
    "    \n",
    "    # t = 0, ..., 50\n",
    "    for t in range(max_iter):\n",
    "        print(f\"iter {t}...\")\n",
    "        # maintain a list of selected nodes for current iteration\n",
    "        selected_nodes = []\n",
    "        # list of node indices to split (prune into two children) for each iteration\n",
    "        splitted = np.zeros((num_nodes), dtype=bool) \n",
    "\n",
    "        for b in range(batch_size):\n",
    "\n",
    "            if b % 5 == 0:\n",
    "                print(f\"\\t batch: {b}\")\n",
    "            # select a node from pruning set using approach (2) from paper\n",
    "            node_v = select_node(tree, pruning_P, lower_bound, upper_bound, best_labels) #################\\\n",
    "            # update selected node for later re-visiting\n",
    "            if node_v not in selected_nodes: \n",
    "                selected_nodes.append(node_v)\n",
    "                \n",
    "            # pick a random instance (leaf) from the chosen node, that has not been queried yet\n",
    "            leaf_x = pick_random(tree, node_v, y_pool_int, best_labels, dead=tree.queried_nodes)\n",
    "            tree.queried_nodes.append(leaf_x)\n",
    "            assert len(tree.queried_nodes) <= X_pool.shape[0]\n",
    "\n",
    "            \n",
    "            # query x's label\n",
    "            label_x = y_pool_int[leaf_x] #################\n",
    "            # update empircal counts and related arrays\n",
    "            total, label_counts, probs_p, on_path = update_counts(tree, node_v, leaf_x, label_x, \n",
    "                                                      total, label_counts, probs_p) #################\n",
    "            # update lower and upper bounds for p (for all nodes 'on path' from leaf to node)\n",
    "            lower_bound, upper_bound = update_bounds(tree, lower_bound, upper_bound, \n",
    "                                                     probs_p, total, label_x, on_path) ########\n",
    "\n",
    "        # Update admissibility, scores, best_labels etc.\n",
    "        admissible, scores_s = get_admissible_n_score(admissble, tree, num_labels, lower_bound,\n",
    "                        upper_bound, probs_p, scores_s, splitted, \n",
    "                        epsilon, best_labels, selected_nodes, y_pool_int)\n",
    "        # Obtain new pruning\n",
    "        for node_v in pruning_P:\n",
    "            prune(node_v, splitted, tree, pruning_P)\n",
    "        # Sanity check. Current pruning must contain all leaves of the tree.\n",
    "        all_leaves = contained_leaves(tree, pruning_P)\n",
    "        assert len(all_leaves) == tree.num_leaves\n",
    "\n",
    "        if t >= 4:\n",
    "            for node_v in pruning_P:\n",
    "                y_pool_hs[:,t-4] = assign_labels(tree, node_v, \n",
    "                                                          best_labels, y_pool_hs, t)\n",
    "        \n",
    "    return y_pool_hs"
   ]
  },
  {
   "cell_type": "markdown",
   "id": "4e579e10",
   "metadata": {},
   "source": [
    "- Batch parameter B is set to 60."
   ]
  },
  {
   "cell_type": "code",
   "execution_count": 415,
   "id": "1a1ac06d",
   "metadata": {},
   "outputs": [],
   "source": [
    "tree = Tree(cluster)\n",
    "max_iter = 50\n",
    "batch_size = 60"
   ]
  },
  {
   "cell_type": "code",
   "execution_count": 416,
   "id": "67938bc4",
   "metadata": {},
   "outputs": [
    {
     "data": {
      "text/plain": [
       "{'num_leaves': 9640,\n",
       " 'num_nodes': 19279,\n",
       " 'parent': array([12683,  9662, 10222, ..., 19277, 19278,    -1]),\n",
       " 'size': array([   1,    1,    1, ..., 9637, 9639, 9640]),\n",
       " 'depth': array([ 0,  0,  0, ..., 56, 57, 58]),\n",
       " 'queried_nodes': [],\n",
       " 'left_child': array([   -1,    -1,    -1, ..., 19274, 19006,  3344]),\n",
       " 'right_child': array([   -1,    -1,    -1, ..., 19275, 19276, 19277])}"
      ]
     },
     "execution_count": 416,
     "metadata": {},
     "output_type": "execute_result"
    }
   ],
   "source": [
    "tree.__dict__"
   ]
  },
  {
   "cell_type": "markdown",
   "id": "bbef12ae",
   "metadata": {},
   "source": [
    "#### Run hierarchical sampling algorithm!"
   ]
  },
  {
   "cell_type": "markdown",
   "id": "c3e17403",
   "metadata": {
    "scrolled": true
   },
   "source": [
    "```python\n",
    "y_labels_list = hierarchical_sampling(cluster, tree, X_pool, y_pool_int, max_iter, batch_size, random_state=1)\n",
    "pickle.dump(y_labels_list, open('files/Q5_final_labels_list', 'wb'))\n",
    "\n",
    "```"
   ]
  },
  {
   "cell_type": "code",
   "execution_count": 369,
   "id": "ad996961",
   "metadata": {},
   "outputs": [],
   "source": [
    "y_labels_list = pickle.load(open('files/Q5_final_labels_list', 'rb'))"
   ]
  },
  {
   "cell_type": "markdown",
   "id": "0447ecc3",
   "metadata": {},
   "source": [
    "```python\n",
    "trained_models = [0 for i in range(y_labels_list.shape[1])]\n",
    "for t in range(len(trained_models)):\n",
    "    print(f\"t={t}...\")\n",
    "    trained_models[t] = train_logistic_regression(X_pool, y_labels_list[:,t])\n",
    "    \n",
    "pickle.dump(trained_models, open('files/Q5_trained_models_list', 'wb'))\n",
    "```"
   ]
  },
  {
   "cell_type": "code",
   "execution_count": 420,
   "id": "1c1328c8",
   "metadata": {},
   "outputs": [],
   "source": [
    "trained_models = pickle.load(open('files/Q5_trained_models_list', 'rb'))"
   ]
  },
  {
   "cell_type": "markdown",
   "id": "1357750e",
   "metadata": {},
   "source": [
    "- Int-transform y_test"
   ]
  },
  {
   "cell_type": "markdown",
   "id": "4c1cdf87",
   "metadata": {},
   "source": [
    "```python\n",
    "y_test_int = [np.where(np.unique(y_test)==y_test[i])[0][0] for i in range(len(y_test))]\n",
    "pickle.dump(y_test_int, open('files/Q5_y_test_int.sav', 'wb'))\n",
    "```"
   ]
  },
  {
   "cell_type": "code",
   "execution_count": 375,
   "id": "d99b509f",
   "metadata": {},
   "outputs": [],
   "source": [
    "y_test_int = pickle.load(open('files/Q5_y_test_int.sav', 'rb'))"
   ]
  },
  {
   "cell_type": "markdown",
   "id": "77376efa",
   "metadata": {},
   "source": [
    "```python\n",
    "accuracies_q5 = [evaluate_logistic_regression_accuracy(X_test, y_test_int, model) for model in trained_models]\n",
    "pickle.dump(accuracies_q5, open('files/Q5_HS_accuracies.sav', 'wb'))\n",
    "```"
   ]
  },
  {
   "cell_type": "code",
   "execution_count": 376,
   "id": "6368ab70",
   "metadata": {
    "scrolled": true
   },
   "outputs": [],
   "source": [
    "accuracies_q5 = pickle.load(open('files/Q5_HS_accuracies.sav', 'rb'))"
   ]
  },
  {
   "cell_type": "code",
   "execution_count": 377,
   "id": "6b64f120",
   "metadata": {},
   "outputs": [
    {
     "data": {
      "image/png": "[encoded data removed]",
      "text/plain": [
       "<Figure size 720x432 with 1 Axes>"
      ]
     },
     "metadata": {
      "needs_background": "light"
     },
     "output_type": "display_data"
    }
   ],
   "source": [
    "accs_dict = dict()\n",
    "\n",
    "accs_dict[\"Hierarchical Sampling\"] = accuracies_q5\n",
    "plot_accuracies(accs_dict, 3060, acc_full, i=5)"
   ]
  },
  {
   "cell_type": "code",
   "execution_count": 304,
   "id": "7d9adab2",
   "metadata": {},
   "outputs": [
    {
     "data": {
      "text/plain": [
       "0.4182572614107884"
      ]
     },
     "execution_count": 304,
     "metadata": {},
     "output_type": "execute_result"
    }
   ],
   "source": [
    "accuracies_q5[-1]"
   ]
  },
  {
   "cell_type": "markdown",
   "id": "e3d07676",
   "metadata": {},
   "source": [
    "- Final test accuracy on 3000-sized dataset is about 0.42.\n",
    "     - Lower accuracy than previous parts could possibly be due to ignoring 300 seed set.\n",
    "- Improvement will be to use these to guide initial pruning of the tree, so we will have some meanginful structure to begin with."
   ]
  }
 ],
 "metadata": {
  "kernelspec": {
   "display_name": "Python 3",
   "language": "python",
   "name": "python3"
  },
  "language_info": {
   "codemirror_mode": {
    "name": "ipython",
    "version": 3
   },
   "file_extension": ".py",
   "mimetype": "text/x-python",
   "name": "python",
   "nbconvert_exporter": "python",
   "pygments_lexer": "ipython3",
   "version": "3.7.9"
  }
 },
 "nbformat": 4,
 "nbformat_minor": 5
}
